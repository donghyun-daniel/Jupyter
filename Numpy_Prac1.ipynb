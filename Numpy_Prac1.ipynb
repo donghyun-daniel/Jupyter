{
 "cells": [
  {
   "cell_type": "markdown",
   "metadata": {},
   "source": [
    "# Vector, Matrix Operation & Coding"
   ]
  },
  {
   "cell_type": "code",
   "execution_count": 16,
   "metadata": {},
   "outputs": [],
   "source": [
    "import numpy as np"
   ]
  },
  {
   "cell_type": "code",
   "execution_count": 17,
   "metadata": {},
   "outputs": [
    {
     "name": "stdout",
     "output_type": "stream",
     "text": [
      "A shape : (3, 3)\n",
      "[[ 3  1  2]\n",
      " [ 1 -2  0]\n",
      " [ 1  4  2]]\n"
     ]
    }
   ],
   "source": [
    "#행렬\n",
    "A = np.array([[3 , 1, 2], [1, -2, 0], [1, 4, 2]])\n",
    "\n",
    "print(f\"A shape : {np.shape(A)}\")\n",
    "print(A)"
   ]
  },
  {
   "cell_type": "code",
   "execution_count": 18,
   "metadata": {},
   "outputs": [
    {
     "name": "stdout",
     "output_type": "stream",
     "text": [
      "b shape : (3,)\n",
      "[4 1 2]\n"
     ]
    }
   ],
   "source": [
    "#벡터\n",
    "b = np.array([4, 1, 2])\n",
    "\n",
    "print(f\"b shape : {np.shape(b)}\")\n",
    "print(b)"
   ]
  },
  {
   "cell_type": "code",
   "execution_count": 19,
   "metadata": {},
   "outputs": [
    {
     "name": "stdout",
     "output_type": "stream",
     "text": [
      "A_inv shape : (3, 3)\n",
      "[[ 2.  -3.  -2. ]\n",
      " [ 1.  -2.  -1. ]\n",
      " [-3.   5.5  3.5]]\n"
     ]
    }
   ],
   "source": [
    "#역행렬\n",
    "A_inv = np.linalg.inv(A)\n",
    "\n",
    "print(f\"A_inv shape : {np.shape(A_inv)}\")\n",
    "print(A_inv)"
   ]
  },
  {
   "cell_type": "code",
   "execution_count": 20,
   "metadata": {},
   "outputs": [
    {
     "name": "stdout",
     "output_type": "stream",
     "text": [
      "x shape : (3,)\n",
      "[ 1.00000000e+00 -6.66133815e-16  5.00000000e-01]\n"
     ]
    }
   ],
   "source": [
    "#Ax = b의 x 구하기 -> x = A_inv * b\n",
    "x = A_inv @ b\n",
    "\n",
    "print(f\"x shape : {np.shape(x)}\")\n",
    "print(x)"
   ]
  },
  {
   "cell_type": "code",
   "execution_count": 21,
   "metadata": {},
   "outputs": [
    {
     "name": "stdout",
     "output_type": "stream",
     "text": [
      "bb shape : (3,)\n",
      "[4. 1. 2.]\n",
      "OK\n"
     ]
    }
   ],
   "source": [
    "#결과 검증\n",
    "bb = A @ x\n",
    "\n",
    "print(f\"bb shape : {np.shape(bb)}\")\n",
    "print(bb)\n",
    "\n",
    "if np.linalg.norm(b - bb) < 1e-3: #일정 오차보다 작다면 OK\n",
    "    print(\"OK\")\n",
    "else:\n",
    "    print(\"Not OK\")\n"
   ]
  }
 ],
 "metadata": {
  "kernelspec": {
   "display_name": "Python 3",
   "language": "python",
   "name": "python3"
  },
  "language_info": {
   "codemirror_mode": {
    "name": "ipython",
    "version": 3
   },
   "file_extension": ".py",
   "mimetype": "text/x-python",
   "name": "python",
   "nbconvert_exporter": "python",
   "pygments_lexer": "ipython3",
   "version": "3.8.5"
  }
 },
 "nbformat": 4,
 "nbformat_minor": 4
}
